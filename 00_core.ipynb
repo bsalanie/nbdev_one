{
 "cells": [
  {
   "cell_type": "code",
   "execution_count": null,
   "metadata": {},
   "outputs": [],
   "source": [
    "# default_exp core\n",
    "%load_ext autoreload\n",
    "%autoreload 2"
   ]
  },
  {
   "cell_type": "markdown",
   "metadata": {},
   "source": [
    "# `nbdev_one`\n",
    "> not much at this stage"
   ]
  },
  {
   "cell_type": "code",
   "execution_count": null,
   "metadata": {},
   "outputs": [],
   "source": [
    "#hide\n",
    "from nbdev.showdoc import *"
   ]
  },
  {
   "cell_type": "code",
   "execution_count": null,
   "metadata": {},
   "outputs": [],
   "source": [
    "#export\n",
    "def whoami(name: str=\"Bernard\"):\n",
    "    \"\"\"\n",
    "    tells you who you are\n",
    "    \n",
    "    @param str name: your name \n",
    "    \n",
    "    @return nothing\n",
    "    \"\"\"\n",
    "    print(f\"You must be {name}.\")"
   ]
  },
  {
   "cell_type": "code",
   "execution_count": null,
   "metadata": {},
   "outputs": [
    {
     "name": "stdout",
     "output_type": "stream",
     "text": [
      "You must be Bernard.\n"
     ]
    }
   ],
   "source": [
    "whoami()"
   ]
  },
  {
   "cell_type": "code",
   "execution_count": null,
   "metadata": {},
   "outputs": [
    {
     "name": "stdout",
     "output_type": "stream",
     "text": [
      "Help on function whoami in module __main__:\n",
      "\n",
      "whoami(name: str = 'Bernard')\n",
      "    #export\n",
      "\n"
     ]
    }
   ],
   "source": [
    "help(whoami)"
   ]
  },
  {
   "cell_type": "markdown",
   "metadata": {},
   "source": [
    "Let us wrap this into a class."
   ]
  },
  {
   "cell_type": "code",
   "execution_count": null,
   "metadata": {},
   "outputs": [],
   "source": [
    "#export\n",
    "class GuessWho:\n",
    "    \"a guessing interface\"\n",
    "    def __init__(self, name=\"Bernard\"):\n",
    "        self.name = name\n",
    "    \n",
    "    def guess(self):\n",
    "        \"tells the user their name\"\n",
    "        return whoami(self.name)\n",
    "    \n",
    "    "
   ]
  },
  {
   "cell_type": "code",
   "execution_count": null,
   "metadata": {},
   "outputs": [
    {
     "name": "stdout",
     "output_type": "stream",
     "text": [
      "You must be Bernard.\n",
      "You must be MW.\n"
     ]
    }
   ],
   "source": [
    "gw = GuessWho()\n",
    "gw.guess()\n",
    "\n",
    "gw_sp = GuessWho(\"MW\")\n",
    "gw_sp.guess()"
   ]
  },
  {
   "cell_type": "markdown",
   "metadata": {},
   "source": [
    "To document the method:"
   ]
  },
  {
   "cell_type": "code",
   "execution_count": null,
   "metadata": {},
   "outputs": [
    {
     "data": {
      "text/markdown": [
       "<h4 id=\"GuessWho.guess\" class=\"doc_header\"><code>GuessWho.guess</code><a href=\"__main__.py#L7\" class=\"source_link\" style=\"float:right\">[source]</a></h4>\n",
       "\n",
       "> <code>GuessWho.guess</code>()\n",
       "\n",
       "tells the user their name"
      ],
      "text/plain": [
       "<IPython.core.display.Markdown object>"
      ]
     },
     "metadata": {},
     "output_type": "display_data"
    }
   ],
   "source": [
    "show_doc(GuessWho.guess)"
   ]
  },
  {
   "cell_type": "code",
   "execution_count": null,
   "metadata": {},
   "outputs": [],
   "source": []
  }
 ],
 "metadata": {
  "kernelspec": {
   "display_name": "stdenv",
   "language": "python",
   "name": "stdenv"
  }
 },
 "nbformat": 4,
 "nbformat_minor": 4
}
